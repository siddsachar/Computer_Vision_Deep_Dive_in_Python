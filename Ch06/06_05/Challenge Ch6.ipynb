{
 "cells": [
  {
   "cell_type": "markdown",
   "id": "96221fbd-32e3-49a8-aef9-21570d1eaeb4",
   "metadata": {},
   "source": [
    "# Stitch Two Pictures Together\n",
    "\n",
    "Complete the following tasks to experiment with cuts for stitching pictures."
   ]
  },
  {
   "cell_type": "code",
   "execution_count": null,
   "id": "39b5e510-57de-412f-ab01-6d6bafe3dc64",
   "metadata": {},
   "outputs": [],
   "source": [
    "# Don't modify this cell, just run it. \n",
    "# get_seam() function is included in EC_CV. \n",
    "\n",
    "import numpy as np\n",
    "import matplotlib.pyplot as plt\n",
    "import cv2\n",
    "from EC_CV import *\n",
    "%config InlineBackend.figure_formats = 'retina'\n",
    "from matplotlib import rcParams\n",
    "\n",
    "rcParams['figure.figsize'] = (20,8)\n"
   ]
  },
  {
   "cell_type": "code",
   "execution_count": null,
   "id": "f18af8d8-eb36-43c7-b1f3-070fec2f8285",
   "metadata": {},
   "outputs": [],
   "source": [
    "# Task #1: Choose a pair of images to stitch\n",
    "#\n",
    "# Copy two image files of your own in this folder, \n",
    "# open and display them both.\n",
    "#\n",
    "# These two images must have the same height, and must \n",
    "# be suitable for stitching together.\n",
    "\n",
    "# Write your code here\n",
    "\n",
    "imgL = plt.imread('Left.bmp')\n",
    "print(np.shape(imgL))\n",
    "imgR = plt.imread('Right.bmp')\n",
    "print(np.shape(imgR))\n",
    "\n",
    "# Let's see the two images side by side\n",
    "\n",
    "rcParams['figure.figsize'] = (20,8)\n",
    "fig, ax = plt.subplots(1,2)\n",
    "ax[0].imshow(imgL)\n",
    "ax[1].imshow(imgR)\n"
   ]
  },
  {
   "cell_type": "code",
   "execution_count": null,
   "id": "0b7f0636-d653-4002-8d7f-601dd0e6ec88",
   "metadata": {},
   "outputs": [],
   "source": [
    "# Task #2: Find a suitable overlap for the 2 images and create a seam.\n",
    "#\n",
    "# In this cell, find an appropriate overlap for your images.\n",
    "# This can be a number as small as 10 pixels, or as large as 100 pixels.\n",
    "# It all depends on your pictures' resolution.\n",
    "#\n",
    "# Then produce an appropriate seam and display it.\n",
    "# You may do this in several cells.\n",
    "\n",
    "# Write your code here\n",
    "\n",
    "# Let's look at the two images put together in a vertical \n",
    "# straight line at the middle of their overlap\n",
    "\n",
    "overlap = 100\n",
    "heightL, widthL, temp = imgL.shape\n",
    "heightR, widthR, temp = imgR.shape\n",
    "    \n",
    "rcParams['figure.figsize'] = (20,28)\n",
    "tinyL = imgL[:,widthL-overlap:]\n",
    "tinyR = imgR[:,:overlap]\n",
    "\n",
    "# Now let's calculate their difference.\n",
    "# Turn both sections to grayscale\n",
    "tinyL_g = np.dot(tinyL[...,:3], [0.299,0.587,0.114])\n",
    "tinyR_g = np.dot(tinyR[...,:3], [0.299,0.587,0.114])\n",
    "# Calculate their squared difference\n",
    "diff = cv2.subtract(tinyL_g,tinyR_g)\n",
    "diff = cv2.multiply(diff,diff)\n",
    "# Let's calculate the seam for the squared difference\n",
    "height, width = diff.shape\n",
    "my_seam = get_seam(diff)\n",
    "\n",
    "# Show the seam in the squared difference with white pixels\n",
    "diff_seam = diff.copy()\n",
    "height, width = diff.shape\n",
    "for i in range(height):\n",
    "    diff_seam[i,int(my_seam[i])] = 255 * 30\n",
    "plt.imshow(diff_seam,cmap='gray')\n",
    "\n",
    "print(height)\n",
    "print(width)\n"
   ]
  },
  {
   "cell_type": "code",
   "execution_count": null,
   "id": "b71feef7-4cce-44c3-9840-05cceee40847",
   "metadata": {},
   "outputs": [],
   "source": [
    "# Task #3: Stitch the images together.\n",
    "#\n",
    "# In this cell, put it all together.\n",
    "# You may use 3 sections like I did.\n",
    "# Display the final image.\n",
    "\n",
    "# Write your code here\n",
    "\n",
    "# First let's create the middle section.\n",
    "middle = tinyL.copy()    # Start with Left overlap.\n",
    "\n",
    "# For every row in the middle section, replace Left pixels with \n",
    "# Right pixels starting at the seam.\n",
    "for i in range(height):   \n",
    "    j = int(my_seam[i])\n",
    "    while j < width:\n",
    "        middle[i,j] = tinyR[i,j]\n",
    "        j += 1\n",
    "    \n",
    "# Now let's create the stitched image.\n",
    "cut_stitch = np.concatenate((imgL[:,:widthL-overlap], middle), axis=1)\n",
    "cut_stitch = np.concatenate((cut_stitch, imgR[:,overlap:]), axis=1)\n",
    "plt.imshow(cut_stitch)"
   ]
  },
  {
   "cell_type": "markdown",
   "id": "76c8e583-9738-491b-ac96-2eba7a0ad367",
   "metadata": {},
   "source": [
    "## See any unnatural artifacts? \n",
    "## Try again with a different overlap."
   ]
  }
 ],
 "metadata": {
  "kernelspec": {
   "display_name": "Python 3 (ipykernel)",
   "language": "python",
   "name": "python3"
  },
  "language_info": {
   "codemirror_mode": {
    "name": "ipython",
    "version": 3
   },
   "file_extension": ".py",
   "mimetype": "text/x-python",
   "name": "python",
   "nbconvert_exporter": "python",
   "pygments_lexer": "ipython3",
   "version": "3.9.12"
  }
 },
 "nbformat": 4,
 "nbformat_minor": 5
}
