{
 "cells": [
  {
   "cell_type": "markdown",
   "id": "96221fbd-32e3-49a8-aef9-21570d1eaeb4",
   "metadata": {},
   "source": [
    "# Resize Some Pictures\n",
    "\n",
    "Complete the following tasks to experiment with picture resizing."
   ]
  },
  {
   "cell_type": "code",
   "execution_count": null,
   "id": "39b5e510-57de-412f-ab01-6d6bafe3dc64",
   "metadata": {},
   "outputs": [],
   "source": [
    "# Don't modify this cell, just run it. \n",
    "# Both functions are included in EC_CV: \n",
    "#                          downscale() \n",
    "#                          upscale_by_2() \n",
    "\n",
    "import numpy as np\n",
    "import matplotlib.pyplot as plt\n",
    "import cv2\n",
    "from EC_CV import *\n",
    "%config InlineBackend.figure_formats = 'retina'\n",
    "from matplotlib import rcParams\n",
    "\n",
    "rcParams['figure.figsize'] = (20,8)\n"
   ]
  },
  {
   "cell_type": "code",
   "execution_count": null,
   "id": "39358ab0-6fe9-472d-b3ff-acd6046f7d49",
   "metadata": {},
   "outputs": [],
   "source": [
    "# Task #1: Print an image\n",
    "#\n",
    "# Copy an image file of your own in this folder, \n",
    "# open it and display it.\n",
    "\n",
    "# Write your code here\n",
    "\n",
    "original  = plt.imread('pizza.bmp')\n",
    "plt.imshow(original)\n",
    "print(np.shape(original))"
   ]
  },
  {
   "cell_type": "code",
   "execution_count": null,
   "id": "dbe3b17e-73e2-4efc-8d84-0e4ea86ed828",
   "metadata": {},
   "outputs": [],
   "source": [
    "# Task #2: Downscale that image.\n",
    "#\n",
    "# In this cell, downscale your image to the resolution of your choice.\n",
    "# Feel free to use the downscale() function, or any other function\n",
    "# either made by yourself, or from a library, like cv2.resize()\n",
    "\n",
    "# Write your code here\n",
    "\n",
    "smaller = adapt_image(downscale(original,4))\n",
    "smaller_OCV = cv2.resize(original,(389,238))\n",
    "print(np.shape(smaller))\n",
    "\n",
    "# Let's see the two images side by side\n",
    "fig, ax = plt.subplots(1,2)\n",
    "ax[0].imshow(smaller)\n",
    "ax[1].imshow(smaller_OCV)"
   ]
  },
  {
   "cell_type": "code",
   "execution_count": null,
   "id": "e725cc78-3e9d-4afd-8fd5-36099519ea0c",
   "metadata": {},
   "outputs": [],
   "source": [
    "# Task #3: Upscale that image.\n",
    "#\n",
    "# In this cell, upscale your image to the resolution of your choice.\n",
    "# Feel free to use the upscale_by_2() function, or any other function\n",
    "# either made by yourself, or from a library, like cv2.resize()\n",
    "#\n",
    "\n",
    "# Write your code here\n",
    "\n",
    "larger = upscale_by_2(smaller)\n",
    "larger = upscale_by_2(larger)\n",
    "larger = adapt_image(larger)\n",
    "print(np.shape(larger))\n",
    "\n",
    "larger_OCV = cv2.resize(smaller,(1556,952))\n",
    "\n",
    "# Let's see the two images side by side\n",
    "fig, ax = plt.subplots(1,2)\n",
    "ax[0].imshow(larger)\n",
    "ax[1].imshow(larger_OCV)"
   ]
  }
 ],
 "metadata": {
  "kernelspec": {
   "display_name": "Python 3 (ipykernel)",
   "language": "python",
   "name": "python3"
  },
  "language_info": {
   "codemirror_mode": {
    "name": "ipython",
    "version": 3
   },
   "file_extension": ".py",
   "mimetype": "text/x-python",
   "name": "python",
   "nbconvert_exporter": "python",
   "pygments_lexer": "ipython3",
   "version": "3.9.12"
  }
 },
 "nbformat": 4,
 "nbformat_minor": 5
}
