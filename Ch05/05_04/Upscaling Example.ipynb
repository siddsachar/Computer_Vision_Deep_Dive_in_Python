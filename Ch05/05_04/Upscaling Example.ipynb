{
 "cells": [
  {
   "cell_type": "markdown",
   "id": "96221fbd-32e3-49a8-aef9-21570d1eaeb4",
   "metadata": {},
   "source": [
    "# Upscaling Example\n"
   ]
  },
  {
   "cell_type": "code",
   "execution_count": null,
   "id": "39b5e510-57de-412f-ab01-6d6bafe3dc64",
   "metadata": {},
   "outputs": [],
   "source": [
    "# Let's start with a low-resolution picture\n",
    "\n",
    "import numpy as np\n",
    "import matplotlib.pyplot as plt\n",
    "%config InlineBackend.figure_formats = 'retina'\n",
    "from matplotlib import rcParams\n",
    "from EC_CV import *\n",
    "import cv2\n",
    "\n",
    "rcParams['figure.figsize'] = (20,8)\n",
    "\n",
    "img = plt.imread('smaller.bmp')\n",
    "plt.imshow(img)\n",
    "np.shape(img)"
   ]
  },
  {
   "cell_type": "code",
   "execution_count": null,
   "id": "bc29cd42-df73-4a33-938d-ad9ce34a0047",
   "metadata": {},
   "outputs": [],
   "source": [
    "# Let's increase the resolution by a linear factor of 2 (4 times larger in area)\n",
    "# The upscale_by_2() function is defined in EC_CV.py\n",
    "\n",
    "img_l = upscale_by_2(img)\n",
    "img_l = adapt_image(img_l)\n",
    "plt.imshow(img_l)"
   ]
  },
  {
   "cell_type": "code",
   "execution_count": null,
   "id": "04d9e817-52cf-43e2-a75c-0c12ca589a38",
   "metadata": {},
   "outputs": [],
   "source": [
    "# Let's see the two images side by side\n",
    "\n",
    "fig, ax = plt.subplots(1,2)\n",
    "ax[0].imshow(img)\n",
    "ax[1].imshow(img_l)"
   ]
  },
  {
   "cell_type": "code",
   "execution_count": null,
   "id": "d9e8eb3c-e164-452c-95b0-e24e1b419e79",
   "metadata": {},
   "outputs": [],
   "source": [
    "# Let's perform a second enlargement \n",
    "\n",
    "img_l = upscale_by_2(img_l)\n",
    "img_l = adapt_image(img_l)\n",
    "\n",
    "fig, ax = plt.subplots(1,2)\n",
    "ax[0].imshow(img)\n",
    "ax[1].imshow(img_l)"
   ]
  },
  {
   "cell_type": "code",
   "execution_count": null,
   "id": "2e857569-a8a1-424a-9514-4fcbd795aefa",
   "metadata": {},
   "outputs": [],
   "source": [
    "# Let's save the larger image into a file\n",
    "\n",
    "plt.imsave(\"larger.bmp\",img_l)"
   ]
  },
  {
   "cell_type": "code",
   "execution_count": null,
   "id": "26223245-dc97-41e4-8458-2db813cb42c6",
   "metadata": {},
   "outputs": [],
   "source": [
    "# Now that we've reduced an image to 1/16 its size \n",
    "# and stretched it back up 16 times,\n",
    "# let's compare the original and final images.\n",
    "\n",
    "volcano = plt.imread('volcano.jpg')\n",
    "\n",
    "print(np.shape(volcano))\n",
    "print(np.shape(img_l))\n",
    "\n",
    "fig, ax = plt.subplots(1,2)\n",
    "ax[0].imshow(volcano)\n",
    "ax[1].imshow(img_l)"
   ]
  }
 ],
 "metadata": {
  "kernelspec": {
   "display_name": "Python 3 (ipykernel)",
   "language": "python",
   "name": "python3"
  },
  "language_info": {
   "codemirror_mode": {
    "name": "ipython",
    "version": 3
   },
   "file_extension": ".py",
   "mimetype": "text/x-python",
   "name": "python",
   "nbconvert_exporter": "python",
   "pygments_lexer": "ipython3",
   "version": "3.9.12"
  }
 },
 "nbformat": 4,
 "nbformat_minor": 5
}
