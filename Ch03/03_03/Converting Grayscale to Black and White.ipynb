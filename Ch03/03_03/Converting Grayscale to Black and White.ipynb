{
 "cells": [
  {
   "cell_type": "markdown",
   "id": "7881fc0c",
   "metadata": {},
   "source": [
    "# Converting Grayscale to Black and White\n",
    "Sometimes you need to represent color images as absolute black and white. Binary picture files requite much less storage space, as each pixel can be represented with a single bit.\n"
   ]
  },
  {
   "cell_type": "code",
   "execution_count": null,
   "id": "80979b7c-5a98-4074-9c9d-700047d43182",
   "metadata": {},
   "outputs": [],
   "source": [
    "# Let's work with the play space picture\n",
    "\n",
    "import numpy as np\n",
    "import matplotlib.pyplot as plt\n",
    "%config InlineBackend.figure_formats = 'retina'\n",
    "from matplotlib import rcParams\n",
    "from EC_CV import *\n",
    "\n",
    "rcParams['figure.figsize'] = 20,8\n",
    "\n",
    "toys = adapt_PNG(plt.imread('playspace.png'))\n",
    "toys_wgt = np.dot(toys[...,:3], [0.299,0.587,0.114])\n",
    "plt.axis(\"off\")\n",
    "plt.imshow(toys_wgt,cmap='gray')"
   ]
  },
  {
   "cell_type": "code",
   "execution_count": null,
   "id": "05506918",
   "metadata": {},
   "outputs": [],
   "source": [
    "# Let's turn each pixel to total black or total white.\n",
    "# We'll use the grayscale_to_BW() function from EC_CV\n",
    "\n",
    "rcParams['figure.figsize'] = 20,8\n",
    "\n",
    "toys_BW = grayscale_to_BW(toys_wgt,127)\n",
    "plt.imshow(toys_BW, cmap = 'gray')"
   ]
  },
  {
   "cell_type": "code",
   "execution_count": null,
   "id": "bb795bc7-9cad-4181-acc9-bf144c21e8d7",
   "metadata": {},
   "outputs": [],
   "source": [
    "# Let's see a histogram of the grayscale image\n",
    "\n",
    "rcParams['figure.figsize'] = (14,8)\n",
    "plt.hist(toys_wgt.ravel(),256,[0,255])\n",
    "plt.title('Histogram')\n",
    "plt.xticks(np.arange(0, 255, 10))\n",
    "plt.show()"
   ]
  },
  {
   "cell_type": "code",
   "execution_count": null,
   "id": "fa2a74ab-04e8-4c05-8541-7c5beafd61f5",
   "metadata": {},
   "outputs": [],
   "source": [
    "# Now let's create a new Black and White image with a threshold of 115\n",
    "rcParams['figure.figsize'] = (20,8)\n",
    "\n",
    "toys_BW2 = grayscale_to_BW(toys_wgt,115)\n",
    "\n",
    "fig, ax = plt.subplots(1,2)\n",
    "ax[0].imshow(toys_BW, cmap='gray')\n",
    "ax[1].imshow(toys_BW2, cmap='gray')\n"
   ]
  }
 ],
 "metadata": {
  "kernelspec": {
   "display_name": "Python 3 (ipykernel)",
   "language": "python",
   "name": "python3"
  },
  "language_info": {
   "codemirror_mode": {
    "name": "ipython",
    "version": 3
   },
   "file_extension": ".py",
   "mimetype": "text/x-python",
   "name": "python",
   "nbconvert_exporter": "python",
   "pygments_lexer": "ipython3",
   "version": "3.9.12"
  }
 },
 "nbformat": 4,
 "nbformat_minor": 5
}
