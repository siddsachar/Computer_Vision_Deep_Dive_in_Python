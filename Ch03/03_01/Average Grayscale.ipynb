{
 "cells": [
  {
   "cell_type": "markdown",
   "id": "7881fc0c",
   "metadata": {},
   "source": [
    "# Average Grayscale\n",
    "A simple way to reduce an RGB image to grayscale is to calculate the average of its Red, Green, and Blue components, and use this average as the only component for its pixels. Let's see it working."
   ]
  },
  {
   "cell_type": "code",
   "execution_count": null,
   "id": "82c3443d",
   "metadata": {},
   "outputs": [],
   "source": [
    "# Let's open a picture of a play space\n",
    "\n",
    "import numpy as np\n",
    "import matplotlib.pyplot as plt\n",
    "%config InlineBackend.figure_formats = 'retina'\n",
    "from EC_CV import *\n",
    "from matplotlib import rcParams\n",
    "\n",
    "plt.rcParams['figure.figsize'] = (8, 8)\n",
    "\n",
    "toys = adapt_PNG(plt.imread('playspace.png'))\n",
    "plt.imshow(toys)\n",
    "np.shape(toys)"
   ]
  },
  {
   "cell_type": "code",
   "execution_count": null,
   "id": "05506918",
   "metadata": {},
   "outputs": [],
   "source": [
    "# Let's calculate the average for each pixel\n",
    "\n",
    "def RGB_to_grayscale(RGB_pic):\n",
    "    rows, cols, temp = np.shape(RGB_pic)\n",
    "    gs = np.zeros((rows,cols))\n",
    "    for i in range(rows):\n",
    "        for j in range(cols):\n",
    "            gs[i,j] = np.average(RGB_pic[i,j])\n",
    "    return gs\n",
    "        \n",
    "toys_gs = RGB_to_grayscale(toys)\n",
    "plt.imshow(toys_gs, cmap = 'gray')\n",
    "np.shape(toys_gs)"
   ]
  },
  {
   "cell_type": "code",
   "execution_count": null,
   "id": "118dd566-7045-40c0-859f-aeb1548a5735",
   "metadata": {},
   "outputs": [],
   "source": [
    "# Took too long? Let's try a compact expression\n",
    "\n",
    "toys_gs = np.dot(toys[...,:3], [1/3,1/3,1/3])\n",
    "plt.imshow(toys_gs, cmap = 'gray')"
   ]
  },
  {
   "cell_type": "code",
   "execution_count": null,
   "id": "fa2a74ab-04e8-4c05-8541-7c5beafd61f5",
   "metadata": {},
   "outputs": [],
   "source": [
    "# Now let's try it on a big picture\n",
    "\n",
    "fruit = plt.imread('fruit.jpg')\n",
    "plt.imshow(fruit)\n",
    "np.shape(fruit)"
   ]
  },
  {
   "cell_type": "code",
   "execution_count": null,
   "id": "6223e904-5d83-4454-865f-963a6fc7b826",
   "metadata": {},
   "outputs": [],
   "source": [
    "fruit_gs = np.dot(fruit[...,:3], [1/3,1/3,1/3])\n",
    "plt.imshow(fruit_gs, cmap = 'gray')"
   ]
  }
 ],
 "metadata": {
  "kernelspec": {
   "display_name": "Python 3 (ipykernel)",
   "language": "python",
   "name": "python3"
  },
  "language_info": {
   "codemirror_mode": {
    "name": "ipython",
    "version": 3
   },
   "file_extension": ".py",
   "mimetype": "text/x-python",
   "name": "python",
   "nbconvert_exporter": "python",
   "pygments_lexer": "ipython3",
   "version": "3.9.12"
  }
 },
 "nbformat": 4,
 "nbformat_minor": 5
}
