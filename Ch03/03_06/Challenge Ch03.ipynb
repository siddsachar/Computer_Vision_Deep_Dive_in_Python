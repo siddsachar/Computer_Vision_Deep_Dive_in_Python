{
 "cells": [
  {
   "cell_type": "markdown",
   "id": "d8093542",
   "metadata": {},
   "source": [
    "# Removing Color\n",
    "\n",
    "Complete the following tasks to convert a color picture into black and white."
   ]
  },
  {
   "cell_type": "code",
   "execution_count": null,
   "id": "82c3443d",
   "metadata": {},
   "outputs": [],
   "source": [
    "# Don't modify this cell, just run it. \n",
    "\n",
    "import numpy as np\n",
    "import matplotlib.pyplot as plt\n",
    "from EC_CV import *\n",
    "%config InlineBackend.figure_formats = 'retina'\n",
    "from matplotlib import rcParams\n",
    "import cv2\n",
    "\n",
    "rcParams['figure.figsize'] = (10, 8)\n"
   ]
  },
  {
   "cell_type": "code",
   "execution_count": null,
   "id": "8d7ca791",
   "metadata": {},
   "outputs": [],
   "source": [
    "# Task #1: Print a color image\n",
    "#\n",
    "# Copy an image file of your own in this folder, \n",
    "# open it and display it.\n",
    "\n",
    "# Write your code here\n",
    "\n",
    "img_c  = plt.imread('sunset.jpg')\n",
    "plt.imshow(img_c)\n"
   ]
  },
  {
   "cell_type": "code",
   "execution_count": null,
   "id": "be2684c2-b7f9-4f6d-a7b3-64df8016bd28",
   "metadata": {},
   "outputs": [],
   "source": [
    "# Task #2: Convert the color image to grayscale.\n",
    "#\n",
    "# Use the weights we used before:\n",
    "#                              Red: 0.299\n",
    "#                            Green: 0.587\n",
    "#                             Blue: 0.114\n",
    "#\n",
    "\n",
    "# Write your code here\n",
    "\n",
    "img_gs = np.dot(img_c[...,:3], [0.299,0.587,0.114])\n",
    "plt.imshow(img_gs, cmap='gray')"
   ]
  },
  {
   "cell_type": "code",
   "execution_count": null,
   "id": "d18d0113",
   "metadata": {},
   "outputs": [],
   "source": [
    "# Task #3: Plot a histogram \n",
    "#\n",
    "# In this cell, plot a histogram of your grayscale image\n",
    "# and try to come up with a suitable global threshold.\n",
    "\n",
    "# Write your code here\n",
    "rcParams['figure.figsize'] = 14,8\n",
    "plt.hist(img_gs.ravel(),256,[0,255])\n",
    "plt.title('Histogram')\n",
    "plt.xticks(np.arange(0, 255, 10))\n",
    "plt.show()\n"
   ]
  },
  {
   "cell_type": "code",
   "execution_count": null,
   "id": "5da5571f-8393-4507-8826-b5fa6b773fdf",
   "metadata": {},
   "outputs": [],
   "source": [
    "# Task #4: Compare two Black and White Images\n",
    "#\n",
    "# Pick two global thresholds from the histogram above and compare  \n",
    "# the two resulting images. Feel free to use OpenCV.\n",
    "\n",
    "# Write your code here\n",
    "\n",
    "img_BW1 = grayscale_to_BW(img_gs,115)\n",
    "img_BW2 = grayscale_to_BW(img_gs,175)\n",
    "\n",
    "# figure size in inches\n",
    "rcParams['figure.figsize'] = 18,8\n",
    "\n",
    "# display images\n",
    "fig, ax = plt.subplots(1,2)\n",
    "ax[0].imshow(img_BW1, cmap='gray')\n",
    "ax[1].imshow(img_BW2, cmap='gray')\n"
   ]
  }
 ],
 "metadata": {
  "kernelspec": {
   "display_name": "Python 3 (ipykernel)",
   "language": "python",
   "name": "python3"
  },
  "language_info": {
   "codemirror_mode": {
    "name": "ipython",
    "version": 3
   },
   "file_extension": ".py",
   "mimetype": "text/x-python",
   "name": "python",
   "nbconvert_exporter": "python",
   "pygments_lexer": "ipython3",
   "version": "3.9.12"
  }
 },
 "nbformat": 4,
 "nbformat_minor": 5
}
