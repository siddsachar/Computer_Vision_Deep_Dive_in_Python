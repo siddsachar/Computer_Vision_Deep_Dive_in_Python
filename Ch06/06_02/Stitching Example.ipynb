{
 "cells": [
  {
   "cell_type": "markdown",
   "id": "96221fbd-32e3-49a8-aef9-21570d1eaeb4",
   "metadata": {},
   "source": [
    "# Stitching Example\n",
    "\n",
    "Let's see an example where we remove a piece of litter by splitting an image in two parts and then stitching them back together with a cut that excludes the piece of litter."
   ]
  },
  {
   "cell_type": "code",
   "execution_count": null,
   "id": "39b5e510-57de-412f-ab01-6d6bafe3dc64",
   "metadata": {},
   "outputs": [],
   "source": [
    "# Let's work with the picture of a green wall.\n",
    "\n",
    "import numpy as np\n",
    "import matplotlib.pyplot as plt\n",
    "%config InlineBackend.figure_formats = 'retina'\n",
    "from matplotlib import rcParams\n",
    "from EC_CV import *\n",
    "import cv2\n",
    "\n",
    "rcParams['figure.figsize'] = (20,28)\n",
    "\n",
    "img = plt.imread('TheWall.bmp')\n",
    "plt.imshow(img)\n",
    "np.shape(img)"
   ]
  },
  {
   "cell_type": "code",
   "execution_count": null,
   "id": "04b5f595-f016-4050-850c-7453cfc5a43d",
   "metadata": {},
   "outputs": [],
   "source": [
    "# Now let's split the image in two separate parts, right at the piece of litter.\n",
    "\n",
    "imgL = img[:,:870]\n",
    "imgR = img[:,870:]\n",
    "print(np.shape(imgL))\n",
    "print(np.shape(imgR))\n",
    "\n",
    "fig, ax = plt.subplots(1,2)\n",
    "ax[0].imshow(imgL)\n",
    "ax[1].imshow(imgR)"
   ]
  },
  {
   "cell_type": "code",
   "execution_count": null,
   "id": "70e54922-d09e-4901-a1de-6c5908941b31",
   "metadata": {},
   "outputs": [],
   "source": [
    "# Let's look at the two images put together in a vertical \n",
    "# straight line at the middle of their overlap\n",
    "\n",
    "overlap = 70 # also try 52 and 46\n",
    "heightL, widthL, temp = imgL.shape\n",
    "heightR, widthR, temp = imgR.shape\n",
    "    \n",
    "stitch = np.concatenate((imgL[:,:widthL-int(overlap/2)], imgR[:,int(overlap/2):]), axis=1)\n",
    "plt.imshow(stitch)"
   ]
  },
  {
   "cell_type": "code",
   "execution_count": null,
   "id": "b920d769-e4cd-457b-a475-f80769500f3d",
   "metadata": {},
   "outputs": [],
   "source": [
    "# Let's zoom in to appreciate the splitting artifact\n",
    "\n",
    "rcParams['figure.figsize'] = (20,10)\n",
    "tiny_stitch = stitch[int(heightL/2)-overlap*2:int(heightL/2)+overlap*2,widthL-overlap*2:widthL+overlap]\n",
    "plt.imshow(tiny_stitch)"
   ]
  },
  {
   "cell_type": "markdown",
   "id": "16c4166f-4017-4186-be9a-24e5b7bac424",
   "metadata": {},
   "source": [
    "## Let's create a seam at a very small part of the overlap first"
   ]
  },
  {
   "cell_type": "code",
   "execution_count": null,
   "id": "618ca125-82f3-41ed-a78f-ac0ceeeaa83b",
   "metadata": {},
   "outputs": [],
   "source": [
    "# Using a section of 100 vertical pixels, let's look at \n",
    "# the Left and Right components of the overlap.\n",
    "\n",
    "rcParams['figure.figsize'] = (20,8)\n",
    "\n",
    "tinyL = imgL[:100,widthL-overlap:]\n",
    "tinyR = imgR[:100,:overlap]\n",
    "\n",
    "# display images\n",
    "fig, ax = plt.subplots(1,2)\n",
    "ax[0].imshow(tinyL)\n",
    "ax[1].imshow(tinyR)"
   ]
  },
  {
   "cell_type": "code",
   "execution_count": null,
   "id": "225e5713-edb1-41db-af17-bb7cf391844c",
   "metadata": {},
   "outputs": [],
   "source": [
    "# Now let's caluclate their difference.\n",
    "\n",
    "rcParams['figure.figsize'] = (20,10)\n",
    "\n",
    "# Turn both sections to grayscale\n",
    "tinyL_g = np.dot(tinyL[...,:3], [0.299,0.587,0.114])\n",
    "tinyR_g = np.dot(tinyR[...,:3], [0.299,0.587,0.114])\n",
    "\n",
    "# Calculate their squared difference\n",
    "diff = cv2.subtract(tinyL_g,tinyR_g)\n",
    "diff = cv2.multiply(diff,diff)\n",
    "\n",
    "# Display the squared difference\n",
    "plt.imshow(diff,cmap='gray')\n",
    "np.shape(diff)"
   ]
  },
  {
   "cell_type": "code",
   "execution_count": null,
   "id": "38bffce6-f257-4c4a-ab79-deb637d23e89",
   "metadata": {},
   "outputs": [],
   "source": [
    "# Let's calculate the seam for the small squared difference\n",
    "# The get_seam() function is defined in EC_CV.py\n",
    "\n",
    "height, width = diff.shape\n",
    "my_seam = get_seam(diff)\n",
    "\n",
    "# Show the seam in the squared difference with white pixels\n",
    "diff_seam = diff.copy()\n",
    "height, width = diff.shape\n",
    "for i in range(height):\n",
    "    diff_seam[i,int(my_seam[i])] = 255 * 255 # This is white squared\n",
    "plt.imshow(diff_seam,cmap='gray')\n",
    "print(height)\n",
    "print(width)"
   ]
  },
  {
   "cell_type": "markdown",
   "id": "23b8b39d-32bd-40c2-b710-bb814820fa58",
   "metadata": {},
   "source": [
    "## Now let's create the whole seam"
   ]
  },
  {
   "cell_type": "code",
   "execution_count": null,
   "id": "d48fbd80-5edb-40f3-ab52-6e9f2556e451",
   "metadata": {},
   "outputs": [],
   "source": [
    "# Using the whole overlap, let's look at its Left and Right components.\n",
    "\n",
    "rcParams['figure.figsize'] = (20,8)\n",
    "tinyL = imgL[:,widthL-overlap:]\n",
    "tinyR = imgR[:,:overlap]\n",
    "\n",
    "fig, ax = plt.subplots(1,2)\n",
    "ax[0].imshow(tinyL)\n",
    "ax[1].imshow(tinyR)"
   ]
  },
  {
   "cell_type": "code",
   "execution_count": null,
   "id": "7ed477f7-ab22-4448-855d-ef3069b0c93e",
   "metadata": {},
   "outputs": [],
   "source": [
    "# Now let's caluclate their difference.\n",
    "\n",
    "# Turn both sections to grayscale\n",
    "tinyL_g = np.dot(tinyL[...,:3], [0.299,0.587,0.114])\n",
    "tinyR_g = np.dot(tinyR[...,:3], [0.299,0.587,0.114])\n",
    "\n",
    "# Calculate their squared difference\n",
    "diff = cv2.subtract(tinyL_g,tinyR_g)\n",
    "diff = cv2.multiply(diff,diff)\n",
    "\n",
    "# Display the squared difference\n",
    "plt.imshow(diff,cmap='gray')\n",
    "np.shape(diff)"
   ]
  },
  {
   "cell_type": "code",
   "execution_count": null,
   "id": "e55f9104-b9fa-4249-98e7-f457b134e403",
   "metadata": {},
   "outputs": [],
   "source": [
    "# Let's calculate the seam for the squared difference\n",
    "rcParams['figure.figsize'] = (20,28)\n",
    "height, width = diff.shape\n",
    "my_seam = get_seam(diff)\n",
    "\n",
    "# Show the seam in the squared difference with white pixels\n",
    "diff_seam = diff.copy()\n",
    "height, width = diff.shape\n",
    "for i in range(height):\n",
    "    diff_seam[i,int(my_seam[i])] = 255 * 255 # This is white squared\n",
    "plt.imshow(diff_seam,cmap='gray')\n",
    "print(height)\n",
    "print(width)"
   ]
  },
  {
   "cell_type": "markdown",
   "id": "a04cc127-6bbe-4e64-a963-515fa978f8ed",
   "metadata": {},
   "source": [
    "## Stitching the sections together "
   ]
  },
  {
   "cell_type": "code",
   "execution_count": null,
   "id": "81ad8cdd-567f-4ce4-904e-ef12fb44aaa9",
   "metadata": {},
   "outputs": [],
   "source": [
    "# First let's create the middle section.\n",
    "# This is the overlapping section, with pixels from both Left and\n",
    "# Right components. The seam determines where Left pixels end\n",
    "# and Right pixels start.\n",
    "\n",
    "middle = tinyL.copy()    # Start with Left overlap.\n",
    "\n",
    "# For every row in the middle section, replace Left pixels with \n",
    "# Right pixels starting at the seam.\n",
    "for i in range(height):   \n",
    "    j = int(my_seam[i])\n",
    "    while j < width:\n",
    "        middle[i,j] = tinyR[i,j]\n",
    "        j += 1\n",
    "    \n",
    "# Now let's create a marked middle section to show the seam with red pixels.\n",
    "middle_marked = middle.copy()\n",
    "for i in range(height):\n",
    "    middle_marked[i,int(my_seam[i])] = np.array((255,0,0))\n",
    "        \n",
    "rcParams['figure.figsize'] = (20,28)        \n",
    "plt.imshow(middle_marked,cmap='gray')"
   ]
  },
  {
   "cell_type": "code",
   "execution_count": null,
   "id": "1c3e0702-726b-4e5a-8000-91f242758bc5",
   "metadata": {},
   "outputs": [],
   "source": [
    "# Now let's create the stitched image consisting of:\n",
    "#    The Leftmost Image (minus the overlap) \n",
    "#       + The Middle Section with the seam in red \n",
    "#          + The Rightmost Section (minus the overlap)\n",
    "\n",
    "cut_stitch = np.concatenate((imgL[:,:widthL-overlap], middle_marked), axis=1)\n",
    "cut_stitch = np.concatenate((cut_stitch, imgR[:,overlap:]), axis=1)\n",
    "plt.imshow(cut_stitch)"
   ]
  },
  {
   "cell_type": "code",
   "execution_count": null,
   "id": "56a360a4-0cf4-46a8-8f3d-25869c80779d",
   "metadata": {},
   "outputs": [],
   "source": [
    "# Now let's create the stitched image, not showing the seam.\n",
    "\n",
    "cut_stitch = np.concatenate((imgL[:,:widthL-overlap], middle), axis=1)\n",
    "cut_stitch = np.concatenate((cut_stitch, imgR[:,overlap:]), axis=1)\n",
    "plt.imshow(cut_stitch)"
   ]
  },
  {
   "cell_type": "markdown",
   "id": "b06e0416-ea87-4a31-bdc7-26b67195a962",
   "metadata": {},
   "source": [
    "## Lastly let's zoom in to see the difference"
   ]
  },
  {
   "cell_type": "code",
   "execution_count": null,
   "id": "b8d6876b-569b-45ac-8246-108d420ef81d",
   "metadata": {},
   "outputs": [],
   "source": [
    "# Display both zoomed-in results\n",
    "\n",
    "rcParams['figure.figsize'] = (20,10)\n",
    "\n",
    "tiny_stitch = stitch[int(heightL/2)-overlap*2:int(heightL/2)+overlap*2,widthL-overlap*2:widthL+overlap]\n",
    "tiny_cut_stitch = cut_stitch[int(heightL/2)-overlap*2:int(heightL/2)+overlap*2,widthL-overlap*2:widthL+overlap]\n",
    "\n",
    "fig, ax = plt.subplots(1,2)\n",
    "ax[0].imshow(tiny_stitch)\n",
    "ax[1].imshow(tiny_cut_stitch)"
   ]
  },
  {
   "cell_type": "code",
   "execution_count": null,
   "id": "2e857569-a8a1-424a-9514-4fcbd795aefa",
   "metadata": {},
   "outputs": [],
   "source": [
    "# Finally let's save the stiched image into a file\n",
    "plt.imsave(\"stitched.bmp\",cut_stitch)"
   ]
  },
  {
   "cell_type": "markdown",
   "id": "1aac2192-ac45-4bb2-b34d-877abef9832a",
   "metadata": {},
   "source": [
    "# Just for fun\n",
    "Let's invert the two images and do the whole thing again!"
   ]
  },
  {
   "cell_type": "code",
   "execution_count": null,
   "id": "a3185fd4-900e-48d4-9503-2427c24aa3cb",
   "metadata": {},
   "outputs": [],
   "source": [
    "# Here we have the inverted sections.\n",
    "imgR = img[:,:870]\n",
    "imgL = img[:,870:]\n",
    "\n",
    "overlap = 70 \n",
    "heightL, widthL, temp = imgL.shape\n",
    "heightR, widthR, temp = imgR.shape\n",
    "\n",
    "stitch = np.concatenate((imgL[:,:widthL-int(overlap/2)], imgR[:,int(overlap/2):]), axis=1)\n",
    "\n",
    "# Left and righe overlap components.\n",
    "tinyL = imgL[:,widthL-overlap:]\n",
    "tinyR = imgR[:,:overlap]\n",
    "\n",
    "# Now let's caluclate their difference.\n",
    "# Turn both sections to grayscale\n",
    "tinyL_g = np.dot(tinyL[...,:3], [0.299,0.587,0.114])\n",
    "tinyR_g = np.dot(tinyR[...,:3], [0.299,0.587,0.114])\n",
    "\n",
    "# Calculate their squared difference\n",
    "diff = cv2.subtract(tinyL_g,tinyR_g)\n",
    "diff = cv2.multiply(diff,diff)\n",
    "\n",
    "# Let's calculate the seam for the squared difference\n",
    "height, width = diff.shape\n",
    "my_seam = get_seam(diff)\n",
    "\n",
    "\n",
    "# First let's create the middle section.\n",
    "middle = tinyL.copy()    # Start with Left overlap.\n",
    "# For every row in the middle section, replace Left pixels with \n",
    "# Right pixels starting at the seam.\n",
    "for i in range(height):   \n",
    "    j = int(my_seam[i])\n",
    "    while j < width:\n",
    "        middle[i,j] = tinyR[i,j]\n",
    "        j += 1\n",
    "        \n",
    "# Now let's create the stitched image.\n",
    "cut_stitch = np.concatenate((imgL[:,:widthL-overlap], middle), axis=1)\n",
    "cut_stitch = np.concatenate((cut_stitch, imgR[:,overlap:]), axis=1)\n",
    "plt.imshow(cut_stitch)"
   ]
  },
  {
   "cell_type": "code",
   "execution_count": null,
   "id": "9b576733-4d3b-462e-afdd-880a736b5bb4",
   "metadata": {},
   "outputs": [],
   "source": [
    "# Display both zoomed-in results\n",
    "\n",
    "rcParams['figure.figsize'] = (20,10)\n",
    "\n",
    "tiny_stitch = stitch[int(heightL/2)-overlap*2:int(heightL/2)+overlap*2,widthL-overlap*2:widthL+overlap]\n",
    "tiny_cut_stitch = cut_stitch[int(heightL/2)-overlap*2:int(heightL/2)+overlap*2,widthL-overlap*2:widthL+overlap]\n",
    "\n",
    "fig, ax = plt.subplots(1,2)\n",
    "ax[0].imshow(tiny_stitch)\n",
    "ax[1].imshow(tiny_cut_stitch)"
   ]
  },
  {
   "cell_type": "code",
   "execution_count": null,
   "id": "4ac15dae-633f-4066-88e7-26a880375926",
   "metadata": {},
   "outputs": [],
   "source": [
    "# Let's look at the grass\n",
    "tiny_stitch = stitch[750:,widthL-overlap*2:widthL+overlap]\n",
    "tiny_cut_stitch = cut_stitch[750:,widthL-overlap*2:widthL+overlap]\n",
    "\n",
    "fig, ax = plt.subplots(1,2)\n",
    "ax[0].imshow(tiny_stitch)\n",
    "ax[1].imshow(tiny_cut_stitch)"
   ]
  }
 ],
 "metadata": {
  "kernelspec": {
   "display_name": "Python 3 (ipykernel)",
   "language": "python",
   "name": "python3"
  },
  "language_info": {
   "codemirror_mode": {
    "name": "ipython",
    "version": 3
   },
   "file_extension": ".py",
   "mimetype": "text/x-python",
   "name": "python",
   "nbconvert_exporter": "python",
   "pygments_lexer": "ipython3",
   "version": "3.9.12"
  }
 },
 "nbformat": 4,
 "nbformat_minor": 5
}
