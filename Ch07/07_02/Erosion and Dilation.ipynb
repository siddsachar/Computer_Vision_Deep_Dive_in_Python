{
 "cells": [
  {
   "cell_type": "markdown",
   "id": "96221fbd-32e3-49a8-aef9-21570d1eaeb4",
   "metadata": {},
   "source": [
    "# Erosion and Dilation\n",
    "Erosion and dilation work with a kernel that slides through an image, as in convolution.\n",
    "- For erosion, a pixel is turned black if there are black pixels in its neighborhood area.\n",
    "- For dilation, a pixel is turned white if there are white pixels in its neighborhood area.\n",
    "\n",
    "Let's get to know the cv2.erode() and cv2.dilate() functions."
   ]
  },
  {
   "cell_type": "code",
   "execution_count": null,
   "id": "39b5e510-57de-412f-ab01-6d6bafe3dc64",
   "metadata": {},
   "outputs": [],
   "source": [
    "import numpy as np\n",
    "import matplotlib.pyplot as plt\n",
    "import cv2\n",
    "from EC_CV import *\n",
    "%config InlineBackend.figure_formats = 'retina'\n",
    "from matplotlib import rcParams\n",
    "\n",
    "rcParams['figure.figsize'] = (20,8)\n"
   ]
  },
  {
   "cell_type": "code",
   "execution_count": null,
   "id": "f18af8d8-eb36-43c7-b1f3-070fec2f8285",
   "metadata": {},
   "outputs": [],
   "source": [
    "# Let's open a black and white picture\n",
    "\n",
    "img = plt.imread('hi_there.bmp')\n",
    "img = np.dot(img[...,:3], [0.299,0.587,0.114])\n",
    "print(np.shape(img))\n",
    "plt.imshow(img,cmap='gray')\n"
   ]
  },
  {
   "cell_type": "code",
   "execution_count": null,
   "id": "7381de2d-9046-4240-a090-d0b238aa4eeb",
   "metadata": {},
   "outputs": [],
   "source": [
    "# Now let's perform a 3x3 erosion\n",
    "\n",
    "kernel3 = np.ones((3,3),np.uint8)\n",
    "img2 = img\n",
    "img2 = cv2.erode(img2,kernel3,iterations = 1)\n",
    "plt.imshow(img2,cmap='gray')\n",
    "img3 = img2"
   ]
  },
  {
   "cell_type": "code",
   "execution_count": null,
   "id": "ca6cc28b-4602-44e3-a4e5-dd7a8c48e9fb",
   "metadata": {},
   "outputs": [],
   "source": [
    "# Now let's dilate it with a 5x5 kernel\n",
    "\n",
    "kernel5 = np.ones((5,5),np.uint8)\n",
    "img2 = cv2.dilate(img2,kernel5,iterations = 1)\n",
    "plt.imshow(img2,cmap='gray')\n"
   ]
  },
  {
   "cell_type": "code",
   "execution_count": null,
   "id": "22cb39fa-3b81-494a-ae69-a40d0c0930c0",
   "metadata": {},
   "outputs": [],
   "source": [
    "# Now let's erode the dilated image\n",
    "\n",
    "img2 = cv2.erode(img2,kernel5,iterations = 1)\n",
    "plt.imshow(img2,cmap='gray')"
   ]
  },
  {
   "cell_type": "code",
   "execution_count": null,
   "id": "936b2ee5-f8f0-4e94-ba50-b18503d1910e",
   "metadata": {},
   "outputs": [],
   "source": [
    "# Let's see the image before dilating and eroding, and after\n",
    "\n",
    "fig, ax = plt.subplots(1,2)\n",
    "ax[0].imshow(img3,cmap='gray')\n",
    "ax[1].imshow(img2,cmap='gray')"
   ]
  },
  {
   "cell_type": "code",
   "execution_count": null,
   "id": "1aafe2e5-7c17-4313-bca0-eb4fc9504c26",
   "metadata": {},
   "outputs": [],
   "source": [
    "# Let's open a different black and white picture\n",
    "\n",
    "img = plt.imread('shapes.bmp')\n",
    "print(np.shape(img))\n",
    "plt.imshow(img,cmap='gray')\n"
   ]
  },
  {
   "cell_type": "code",
   "execution_count": null,
   "id": "5b9bb4f8-9cb2-4412-bbc6-146951be220c",
   "metadata": {},
   "outputs": [],
   "source": [
    "# Let's erode those shapes 4 times with a 3x3 kernel\n",
    "\n",
    "img2 = img\n",
    "img2 = cv2.erode(img2,kernel3,iterations = 4)\n",
    "plt.imshow(img2,cmap='gray')\n"
   ]
  },
  {
   "cell_type": "code",
   "execution_count": null,
   "id": "34806cb5-b69a-4639-bed1-26559accc253",
   "metadata": {},
   "outputs": [],
   "source": [
    "# Now let's dilate those shapes twice with a 5x5 kernel\n",
    "\n",
    "img2 = cv2.dilate(img2, kernel5, iterations = 2)\n",
    "plt.imshow(img2,cmap='gray')\n"
   ]
  },
  {
   "cell_type": "code",
   "execution_count": null,
   "id": "3fc8d545-6319-432d-8072-3b7d85faf1b2",
   "metadata": {},
   "outputs": [],
   "source": [
    "# Now let's erode those shapes 8 times with a 5x5 kernel\n",
    "\n",
    "img3 = img2\n",
    "img2 = cv2.erode(img2, kernel5, iterations = 8)\n",
    "plt.imshow(img2,cmap='gray')\n"
   ]
  },
  {
   "cell_type": "code",
   "execution_count": null,
   "id": "319c0ddb-b72c-4860-9f74-6a35581decf3",
   "metadata": {},
   "outputs": [],
   "source": [
    "# Now let's dilate those shapes 8 times with a 5x5 kernel\n",
    "\n",
    "img2 = cv2.dilate(img2, kernel5, iterations = 8)\n",
    "\n",
    "fig, ax = plt.subplots(1,2)\n",
    "ax[0].imshow(img3,cmap='gray')\n",
    "ax[1].imshow(img2,cmap='gray')"
   ]
  }
 ],
 "metadata": {
  "kernelspec": {
   "display_name": "Python 3 (ipykernel)",
   "language": "python",
   "name": "python3"
  },
  "language_info": {
   "codemirror_mode": {
    "name": "ipython",
    "version": 3
   },
   "file_extension": ".py",
   "mimetype": "text/x-python",
   "name": "python",
   "nbconvert_exporter": "python",
   "pygments_lexer": "ipython3",
   "version": "3.9.12"
  }
 },
 "nbformat": 4,
 "nbformat_minor": 5
}
