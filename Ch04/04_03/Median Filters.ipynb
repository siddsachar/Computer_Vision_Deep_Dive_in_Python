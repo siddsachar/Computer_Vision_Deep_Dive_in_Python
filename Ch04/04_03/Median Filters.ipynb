{
 "cells": [
  {
   "cell_type": "markdown",
   "id": "96221fbd-32e3-49a8-aef9-21570d1eaeb4",
   "metadata": {},
   "source": [
    "# Median Filters\n",
    "Not all filters perform the same weighted sum operation. Median filters can also blur images by picking the median value instead of the average."
   ]
  },
  {
   "cell_type": "code",
   "execution_count": null,
   "id": "39b5e510-57de-412f-ab01-6d6bafe3dc64",
   "metadata": {},
   "outputs": [],
   "source": [
    "# Let's work with a grainy picture\n",
    "\n",
    "import numpy as np\n",
    "import matplotlib.pyplot as plt\n",
    "%config InlineBackend.figure_formats = 'retina'\n",
    "from matplotlib import rcParams\n",
    "from EC_CV import *\n",
    "import cv2\n",
    "\n",
    "rcParams['figure.figsize'] = (24, 10)\n",
    "\n",
    "img = plt.imread('field.jpg')\n",
    "plt.axis(\"off\")\n",
    "plt.imshow(img)"
   ]
  },
  {
   "cell_type": "code",
   "execution_count": null,
   "id": "dbd59a91-588a-407a-9605-12f97a63700c",
   "metadata": {},
   "outputs": [],
   "source": [
    "# OpenCV's functions work with color and grayscale images\n",
    "\n",
    "median = cv2.medianBlur(img,5)\n",
    "plt.axis(\"off\")\n",
    "plt.imshow(median)"
   ]
  },
  {
   "cell_type": "code",
   "execution_count": null,
   "id": "e876f39c-e3a3-4d1d-a4ba-5807fd436d76",
   "metadata": {},
   "outputs": [],
   "source": [
    "# Let's see an average blur side by side with a median blur\n",
    "\n",
    "rcParams['figure.figsize'] = (20,8)\n",
    "\n",
    "kernel = np.ones((5, 5), np.float32) / 25\n",
    "average = cv2.filter2D(src=img, ddepth=-1, kernel=kernel)\n",
    "\n",
    "# display images\n",
    "fig, ax = plt.subplots(1,2)\n",
    "ax[0].imshow(average)\n",
    "ax[1].imshow(median)"
   ]
  },
  {
   "cell_type": "code",
   "execution_count": null,
   "id": "c26ef4f4-a02b-431a-b4c4-a28615b1867c",
   "metadata": {},
   "outputs": [],
   "source": [
    "# Let's zoom in to the leftmost section\n",
    "\n",
    "rcParams['figure.figsize'] = (20, 20)\n",
    "\n",
    "# display images\n",
    "fig, ax = plt.subplots(1,2)\n",
    "ax[0].imshow(average[:,:400])\n",
    "ax[1].imshow(median[:,:400])"
   ]
  },
  {
   "cell_type": "code",
   "execution_count": null,
   "id": "69919df2-1785-4730-8c8c-abccdf60ed5c",
   "metadata": {},
   "outputs": [],
   "source": [
    "# Now a middle section\n",
    "\n",
    "fig, ax = plt.subplots(1,2)\n",
    "ax[0].imshow(average[:,400:800])\n",
    "ax[1].imshow(median[:,400:800])"
   ]
  },
  {
   "cell_type": "code",
   "execution_count": null,
   "id": "f9091a4e-d1dc-43d3-9f7b-c1aa70a25fb0",
   "metadata": {},
   "outputs": [],
   "source": [
    "# Lastly, the rightmost section\n",
    "\n",
    "fig, ax = plt.subplots(1,2)\n",
    "ax[0].imshow(average[:,800:1200])\n",
    "ax[1].imshow(median[:,800:1200])"
   ]
  },
  {
   "cell_type": "code",
   "execution_count": null,
   "id": "449b666d-6049-43d7-b6f6-0cce92a061aa",
   "metadata": {},
   "outputs": [],
   "source": [
    "# Now let's see it for a different picture\n",
    "\n",
    "rcParams['figure.figsize'] = (24, 10)\n",
    "\n",
    "img = plt.imread('workers.jpg')\n",
    "plt.axis(\"off\")\n",
    "plt.imshow(img)\n"
   ]
  },
  {
   "cell_type": "code",
   "execution_count": null,
   "id": "2b125765-2817-455e-a498-5b48d7a78e23",
   "metadata": {},
   "outputs": [],
   "source": [
    "# OpenCV's functions work with color and grayscale images\n",
    "\n",
    "median = cv2.medianBlur(img,3)\n",
    "plt.axis(\"off\")\n",
    "plt.imshow(median)"
   ]
  },
  {
   "cell_type": "code",
   "execution_count": null,
   "id": "33c5e427-c34c-4233-93aa-9f22dfd6c1d1",
   "metadata": {},
   "outputs": [],
   "source": [
    "# Let's see an average blur side by side with a median blur\n",
    "\n",
    "rcParams['figure.figsize'] = (20,8)\n",
    "\n",
    "kernel = np.ones((3, 3), np.float32) / 9\n",
    "average = cv2.filter2D(src=img, ddepth=-1, kernel=kernel)\n",
    "\n",
    "# display images\n",
    "fig, ax = plt.subplots(1,2)\n",
    "ax[0].imshow(average)\n",
    "ax[1].imshow(median)"
   ]
  },
  {
   "cell_type": "code",
   "execution_count": null,
   "id": "2f99825b-f2da-4728-b698-13d0324f9f38",
   "metadata": {},
   "outputs": [],
   "source": [
    "# Let's zoom in to the leftmost section\n",
    "\n",
    "rcParams['figure.figsize'] = (20, 20)\n",
    "\n",
    "# display images\n",
    "fig, ax = plt.subplots(1,2)\n",
    "ax[0].imshow(average[:,:400])\n",
    "ax[1].imshow(median[:,:400])"
   ]
  },
  {
   "cell_type": "code",
   "execution_count": null,
   "id": "b0b8344a-94ee-4828-8de6-088d22c1e2fe",
   "metadata": {},
   "outputs": [],
   "source": [
    "# Now a middle section\n",
    "\n",
    "fig, ax = plt.subplots(1,2)\n",
    "ax[0].imshow(average[:,400:800])\n",
    "ax[1].imshow(median[:,400:800])"
   ]
  },
  {
   "cell_type": "code",
   "execution_count": null,
   "id": "69754d7a-5227-4fdc-9295-db6180bfc7f9",
   "metadata": {},
   "outputs": [],
   "source": [
    "# Lastly, the rightmost section\n",
    "\n",
    "fig, ax = plt.subplots(1,2)\n",
    "ax[0].imshow(average[:,700:1100])\n",
    "ax[1].imshow(median[:,700:1100])"
   ]
  },
  {
   "cell_type": "code",
   "execution_count": null,
   "id": "5d1f8590-70e9-4599-bda1-d14d45f28901",
   "metadata": {},
   "outputs": [],
   "source": [
    "# Now you try it with this picture of a face.\n",
    "# Experiment with several kernel sizes.\n",
    "\n",
    "rcParams['figure.figsize'] = (24, 10)\n",
    "\n",
    "img = plt.imread('face.jpg')\n",
    "plt.axis(\"off\")\n",
    "plt.imshow(img)"
   ]
  }
 ],
 "metadata": {
  "kernelspec": {
   "display_name": "Python 3 (ipykernel)",
   "language": "python",
   "name": "python3"
  },
  "language_info": {
   "codemirror_mode": {
    "name": "ipython",
    "version": 3
   },
   "file_extension": ".py",
   "mimetype": "text/x-python",
   "name": "python",
   "nbconvert_exporter": "python",
   "pygments_lexer": "ipython3",
   "version": "3.9.12"
  }
 },
 "nbformat": 4,
 "nbformat_minor": 5
}
