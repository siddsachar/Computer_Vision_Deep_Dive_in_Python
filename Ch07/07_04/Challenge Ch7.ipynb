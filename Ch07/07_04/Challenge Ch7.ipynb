{
 "cells": [
  {
   "cell_type": "markdown",
   "id": "96221fbd-32e3-49a8-aef9-21570d1eaeb4",
   "metadata": {},
   "source": [
    "# Help a Robot\n",
    "\n",
    "Complete the following tasks to experiment with morphological transformations to help the warehouse robot find its way to the box of interest."
   ]
  },
  {
   "cell_type": "code",
   "execution_count": null,
   "id": "39b5e510-57de-412f-ab01-6d6bafe3dc64",
   "metadata": {},
   "outputs": [],
   "source": [
    "# Don't modify this cell, just run it.\n",
    "\n",
    "import numpy as np\n",
    "import matplotlib.pyplot as plt\n",
    "import cv2\n",
    "from EC_CV import *\n",
    "%config InlineBackend.figure_formats = 'retina'\n",
    "from matplotlib import rcParams\n",
    "\n",
    "rcParams['figure.figsize'] = (17, 14)\n"
   ]
  },
  {
   "cell_type": "code",
   "execution_count": null,
   "id": "f18af8d8-eb36-43c7-b1f3-070fec2f8285",
   "metadata": {},
   "outputs": [],
   "source": [
    "# In this cell, we have the picture taken by the camera in the ceiling, \n",
    "# as requested by the robot.\n",
    "#\n",
    "# Run this cell and move on to the next one.\n",
    "\n",
    "img = plt.imread('warehouse.bmp')\n",
    "plt.axis(\"off\")\n",
    "plt.imshow(img,cmap='gray')\n"
   ]
  },
  {
   "cell_type": "code",
   "execution_count": null,
   "id": "9e0ce472-dfe3-4aee-b7d4-16d2c8416cc3",
   "metadata": {},
   "outputs": [],
   "source": [
    "# In this cell we have a special operation to create a color mask.\n",
    "#\n",
    "# This procedure is described in OpenCV's tutorials website:\n",
    "# https://docs.opencv.org/4.x/df/d9d/tutorial_py_colorspaces.html\n",
    "\n",
    "# Convert RGB to HSV\n",
    "hsv = cv2.cvtColor(img, cv2.COLOR_RGB2HSV)\n",
    "\n",
    "# Define range of color in HSV\n",
    "lower = np.array([10,50,50]) \n",
    "upper = np.array([90,255,255]) \n",
    "\n",
    "# Threshold the HSV image to get only brown colors\n",
    "mask = cv2.inRange(hsv, lower, upper)\n",
    "    \n",
    "plt.imshow(mask,cmap='gray')\n"
   ]
  },
  {
   "cell_type": "code",
   "execution_count": null,
   "id": "59d44c7a-0d81-4c06-b63a-ba4d390dfffa",
   "metadata": {},
   "outputs": [],
   "source": [
    "# Run this cell to appreciate the lingering white dots\n",
    "\n",
    "rcParams['figure.figsize'] = (15, 14)\n",
    "plt.imshow(mask[:300,300:800],cmap='gray')"
   ]
  },
  {
   "cell_type": "code",
   "execution_count": null,
   "id": "7381de2d-9046-4240-a090-d0b238aa4eeb",
   "metadata": {},
   "outputs": [],
   "source": [
    "# Task #1: Get rid of the noise\n",
    "# In this cell, use morphological transformations to get rid of the \n",
    "# white dots throughout the mask.\n",
    "\n",
    "rcParams['figure.figsize'] = (17, 14)\n",
    "# Write your code here\n"
   ]
  },
  {
   "cell_type": "code",
   "execution_count": null,
   "id": "ca6cc28b-4602-44e3-a4e5-dd7a8c48e9fb",
   "metadata": {},
   "outputs": [],
   "source": [
    "# Task #2: Make the blobs grow.\n",
    "# In this cell, use morphological transformations to make the obstacle\n",
    "# blobs grow.\n",
    "# It's simple: Just dilate the mask with a 5x5 kernel about 10 times\n",
    "# or with a 3x3 kernel about 20 times.\n",
    "\n",
    "# Write your code here\n"
   ]
  },
  {
   "cell_type": "markdown",
   "id": "81a240ba-63b1-4aa3-9e22-4557162660be",
   "metadata": {},
   "source": [
    "## Now run all cells again, but skip task #1 to see what happens"
   ]
  }
 ],
 "metadata": {
  "kernelspec": {
   "display_name": "Python 3 (ipykernel)",
   "language": "python",
   "name": "python3"
  },
  "language_info": {
   "codemirror_mode": {
    "name": "ipython",
    "version": 3
   },
   "file_extension": ".py",
   "mimetype": "text/x-python",
   "name": "python",
   "nbconvert_exporter": "python",
   "pygments_lexer": "ipython3",
   "version": "3.9.12"
  }
 },
 "nbformat": 4,
 "nbformat_minor": 5
}
