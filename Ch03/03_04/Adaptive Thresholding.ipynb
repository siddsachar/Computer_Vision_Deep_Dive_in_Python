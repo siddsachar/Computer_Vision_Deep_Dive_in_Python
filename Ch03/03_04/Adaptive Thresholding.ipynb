{
 "cells": [
  {
   "cell_type": "markdown",
   "id": "7881fc0c",
   "metadata": {},
   "source": [
    "# Adaptive Thresholding\n",
    "\n",
    "Some images that contain segments with differces in lighting may be tricky to turn into a black and white representation because a single threshold won't work for the whole picture. There are several methods to perform adaptive thresholding."
   ]
  },
  {
   "cell_type": "code",
   "execution_count": null,
   "id": "82c3443d",
   "metadata": {},
   "outputs": [],
   "source": [
    "# First let's open a color picture\n",
    "\n",
    "import numpy as np\n",
    "import matplotlib.pyplot as plt\n",
    "import cv2\n",
    "%config InlineBackend.figure_formats = 'retina'\n",
    "from matplotlib import rcParams\n",
    "from EC_CV import *\n",
    "\n",
    "\n",
    "rcParams['figure.figsize'] = 10,14\n",
    "img = plt.imread('sudoku.jpg')\n",
    "plt.axis(\"off\")\n",
    "plt.imshow(img)"
   ]
  },
  {
   "cell_type": "code",
   "execution_count": null,
   "id": "50ac3543-78e1-494f-b07b-97c50a234314",
   "metadata": {},
   "outputs": [],
   "source": [
    "# Let's see a histogram of the grayscale image\n",
    "img = np.dot(img[...,:3], [0.299,0.587,0.114])\n",
    "print(np.shape(img))\n",
    "\n",
    "rcParams['figure.figsize'] = (14,8)\n",
    "plt.hist(img.ravel(),256,[0,255])\n",
    "plt.title('Histogram')\n",
    "plt.xticks(np.arange(0, 255, 10))\n",
    "plt.show()"
   ]
  },
  {
   "cell_type": "code",
   "execution_count": null,
   "id": "fa2a74ab-04e8-4c05-8541-7c5beafd61f5",
   "metadata": {},
   "outputs": [],
   "source": [
    "# Now let's see a piece of code from OpenCV's website where two adaptive\n",
    "# threshold methods are used: \n",
    "#                     - Adaptive Mean Thresholding\n",
    "#                     - Adaptive Gaussian Thresholding. \n",
    "rcParams['figure.figsize'] = (18,14)\n",
    "threshold = 127 # Also try it with 215 and 225\n",
    "img0 = cv2.imread('sudoku.jpg',0)\n",
    "img = cv2.medianBlur(img0,17)\n",
    "ret,th1 = cv2.threshold(img,threshold,255,cv2.THRESH_BINARY)\n",
    "th2 = cv2.adaptiveThreshold(img,255,cv2.ADAPTIVE_THRESH_MEAN_C,cv2.THRESH_BINARY,33,2)\n",
    "th3 = cv2.adaptiveThreshold(img,255,cv2.ADAPTIVE_THRESH_GAUSSIAN_C,cv2.THRESH_BINARY,33,2)\n",
    "titles = ['Original Image', 'Global Thresholding (v = '+str(threshold)+')',\n",
    "            'Adaptive Mean Thresholding', 'Adaptive Gaussian Thresholding']\n",
    "images = [img0, th1, th2, th3]\n",
    "for i in range(4):\n",
    "    plt.subplot(2,2,i+1),plt.imshow(images[i],'gray')\n",
    "    plt.title(titles[i])\n",
    "    plt.xticks([]),plt.yticks([])\n",
    "plt.show()"
   ]
  },
  {
   "cell_type": "code",
   "execution_count": null,
   "id": "38304213-3a31-4596-8112-8e65ce458b48",
   "metadata": {},
   "outputs": [],
   "source": [
    "# Now let's see it with the play space image\n",
    "rcParams['figure.figsize'] = (18,14)\n",
    "threshold = 115\n",
    "img0 = cv2.imread('playspace.png',0)\n",
    "img = cv2.medianBlur(img0,5)\n",
    "ret,th1 = cv2.threshold(img,threshold,255,cv2.THRESH_BINARY)\n",
    "th2 = cv2.adaptiveThreshold(img,255,cv2.ADAPTIVE_THRESH_MEAN_C,cv2.THRESH_BINARY,11,2)\n",
    "th3 = cv2.adaptiveThreshold(img,255,cv2.ADAPTIVE_THRESH_GAUSSIAN_C,cv2.THRESH_BINARY,11,2)\n",
    "titles = ['Original Image', 'Global Thresholding (v = '+str(threshold)+')',\n",
    "            'Adaptive Mean Thresholding', 'Adaptive Gaussian Thresholding']\n",
    "images = [img0, th1, th2, th3]\n",
    "for i in range(4):\n",
    "    plt.subplot(2,2,i+1),plt.imshow(images[i],'gray')\n",
    "    plt.title(titles[i])\n",
    "    plt.xticks([]),plt.yticks([])\n",
    "plt.show()"
   ]
  }
 ],
 "metadata": {
  "kernelspec": {
   "display_name": "Python 3 (ipykernel)",
   "language": "python",
   "name": "python3"
  },
  "language_info": {
   "codemirror_mode": {
    "name": "ipython",
    "version": 3
   },
   "file_extension": ".py",
   "mimetype": "text/x-python",
   "name": "python",
   "nbconvert_exporter": "python",
   "pygments_lexer": "ipython3",
   "version": "3.9.12"
  }
 },
 "nbformat": 4,
 "nbformat_minor": 5
}
