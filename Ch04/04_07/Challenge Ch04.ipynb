{
 "cells": [
  {
   "cell_type": "markdown",
   "id": "d8093542",
   "metadata": {},
   "source": [
    "# Create your own Convolution Filter\n",
    "\n",
    "Complete the following tasks to experiment with convolution filters."
   ]
  },
  {
   "cell_type": "code",
   "execution_count": null,
   "id": "82c3443d",
   "metadata": {},
   "outputs": [],
   "source": [
    "# Don't modify this cell, just run it. \n",
    "\n",
    "import numpy as np\n",
    "import matplotlib.pyplot as plt\n",
    "import cv2\n",
    "from EC_CV import *\n",
    "%config InlineBackend.figure_formats = 'retina'\n",
    "from matplotlib import rcParams\n",
    "\n",
    "rcParams['figure.figsize'] = (10, 8)\n"
   ]
  },
  {
   "cell_type": "code",
   "execution_count": null,
   "id": "8d7ca791",
   "metadata": {},
   "outputs": [],
   "source": [
    "# Task #1: Print a color image\n",
    "#\n",
    "# Copy an image file of your own in this folder, \n",
    "# open it and display it.\n",
    "\n",
    "# Write your code here\n",
    "\n",
    "img  = plt.imread('komodo.jpg')\n",
    "img = cv2.cvtColor(img, cv2.COLOR_RGB2GRAY)\n",
    "plt.imshow(img,cmap='gray')"
   ]
  },
  {
   "cell_type": "code",
   "execution_count": null,
   "id": "8e446e1d-6ca9-4e28-9a3d-49a8f6684697",
   "metadata": {},
   "outputs": [],
   "source": [
    "# Task #2: Create your Own Kernel.\n",
    "#\n",
    "# In this cell, try your hand at coming up with a kernel with some logic\n",
    "# in its values, and try to predict how it will behave.\n",
    "# Your kernel's dimensions may be 3x3, 5x5 or 7x7.\n",
    "\n",
    "\n",
    "# Modify this kernel definition\n",
    "kernel = np.matrix([[2,  1,  0], \n",
    "                    [1,  0, -1],\n",
    "                    [0, -1, -2]])"
   ]
  },
  {
   "cell_type": "code",
   "execution_count": null,
   "id": "59ed3ac7-2261-4744-a8e2-acf0183f1a8e",
   "metadata": {},
   "outputs": [],
   "source": [
    "# Run this cell to test your kernel\n",
    "# Don't modify this cell, just run it\n",
    "\n",
    "filtered1 = cv2.filter2D(src=img, ddepth=-1, kernel=kernel)\n",
    "rcParams['figure.figsize'] = 20,8\n",
    "\n",
    "# display images\n",
    "fig, ax = plt.subplots(1,2)\n",
    "ax[0].imshow(img,cmap='gray')\n",
    "ax[1].imshow(filtered1,cmap='gray')"
   ]
  },
  {
   "cell_type": "code",
   "execution_count": null,
   "id": "d18d0113",
   "metadata": {},
   "outputs": [],
   "source": [
    "# Task #3: Create a second kernel\n",
    "#\n",
    "# Now try to come up with a second kernel.\n",
    "# You may want to perform something related to the first kernel,\n",
    "# or maybe something totally different. \n",
    "#\n",
    "# Here's the same code as before for you to modify the kernel.\n",
    "\n",
    "\n",
    "# Modify this kernel definition\n",
    "kernel = np.matrix([[0, -1, -2], \n",
    "                    [1,  0, -1],\n",
    "                    [2,  1,  0]])\n",
    "\n",
    "filtered2 = cv2.filter2D(src=img, ddepth=-1, kernel=kernel)\n",
    "rcParams['figure.figsize'] = 20,8\n",
    "\n",
    "# display images\n",
    "fig, ax = plt.subplots(1,2)\n",
    "ax[0].imshow(img,cmap='gray')\n",
    "ax[1].imshow(filtered2,cmap='gray')\n"
   ]
  },
  {
   "cell_type": "code",
   "execution_count": null,
   "id": "dfc5ed9d-473c-4855-87ae-b175f6556ca5",
   "metadata": {},
   "outputs": [],
   "source": [
    "# Now let's see the two images side by side\n",
    "\n",
    "fig, ax = plt.subplots(1,2)\n",
    "ax[0].imshow(filtered1,cmap='gray')\n",
    "ax[1].imshow(filtered2,cmap='gray')"
   ]
  }
 ],
 "metadata": {
  "kernelspec": {
   "display_name": "Python 3 (ipykernel)",
   "language": "python",
   "name": "python3"
  },
  "language_info": {
   "codemirror_mode": {
    "name": "ipython",
    "version": 3
   },
   "file_extension": ".py",
   "mimetype": "text/x-python",
   "name": "python",
   "nbconvert_exporter": "python",
   "pygments_lexer": "ipython3",
   "version": "3.9.12"
  }
 },
 "nbformat": 4,
 "nbformat_minor": 5
}
