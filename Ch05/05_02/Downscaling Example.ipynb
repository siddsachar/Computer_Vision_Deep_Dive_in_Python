{
 "cells": [
  {
   "cell_type": "markdown",
   "id": "96221fbd-32e3-49a8-aef9-21570d1eaeb4",
   "metadata": {},
   "source": [
    "# Downscaling Example\n"
   ]
  },
  {
   "cell_type": "code",
   "execution_count": null,
   "id": "39b5e510-57de-412f-ab01-6d6bafe3dc64",
   "metadata": {},
   "outputs": [],
   "source": [
    "# Let's work with the picture of a house\n",
    "\n",
    "import numpy as np\n",
    "import matplotlib.pyplot as plt\n",
    "%config InlineBackend.figure_formats = 'retina'\n",
    "from matplotlib import rcParams\n",
    "from EC_CV import *\n",
    "import cv2\n",
    "\n",
    "rcParams['figure.figsize'] = (20,8)\n",
    "\n",
    "img = plt.imread('volcano.jpg')\n",
    "plt.imshow(img)\n",
    "np.shape(img)"
   ]
  },
  {
   "cell_type": "code",
   "execution_count": null,
   "id": "dbd59a91-588a-407a-9605-12f97a63700c",
   "metadata": {},
   "outputs": [],
   "source": [
    "# Let's reduce the resolution by a linear factor of 4 (16 times smaller in area)\n",
    "# The downscale() function is defined in EC_CV.py\n",
    "\n",
    "img_s = downscale(img,4)\n",
    "img_s = adapt_image(img_s)\n",
    "plt.imshow(img_s)\n",
    "print(np.shape(img_s))"
   ]
  },
  {
   "cell_type": "code",
   "execution_count": null,
   "id": "e876f39c-e3a3-4d1d-a4ba-5807fd436d76",
   "metadata": {},
   "outputs": [],
   "source": [
    "# Let's see the two images side by side\n",
    "\n",
    "print(np.shape(img))\n",
    "print(np.shape(img_s))\n",
    "\n",
    "fig, ax = plt.subplots(1,2)\n",
    "ax[0].imshow(img)\n",
    "ax[1].imshow(img_s)"
   ]
  },
  {
   "cell_type": "code",
   "execution_count": null,
   "id": "c26ef4f4-a02b-431a-b4c4-a28615b1867c",
   "metadata": {},
   "outputs": [],
   "source": [
    "# Now let's do the same at the smaller image's size\n",
    "\n",
    "rcParams['figure.figsize'] = (3.5,8)\n",
    "\n",
    "# display images\n",
    "fig, ax = plt.subplots(1,2)\n",
    "ax[0].imshow(img)\n",
    "ax[1].imshow(img_s)"
   ]
  },
  {
   "cell_type": "code",
   "execution_count": null,
   "id": "2e857569-a8a1-424a-9514-4fcbd795aefa",
   "metadata": {},
   "outputs": [],
   "source": [
    "# Now let's save the smaller image into a file\n",
    "\n",
    "plt.imsave(\"smaller.bmp\",img_s)"
   ]
  },
  {
   "cell_type": "code",
   "execution_count": null,
   "id": "759c9bc7-71d6-4547-b58a-7fa55cd2e121",
   "metadata": {},
   "outputs": [],
   "source": [
    "# Let's repeat the process for another image\n",
    "\n",
    "rcParams['figure.figsize'] = (20,8)\n",
    "\n",
    "img = plt.imread('meat.bmp')\n",
    "img_s = adapt_image(downscale(img,10))\n",
    "\n",
    "print(np.shape(img))\n",
    "print(np.shape(img_s))\n",
    "\n",
    "fig, ax = plt.subplots(1,2)\n",
    "ax[0].imshow(img)\n",
    "ax[1].imshow(img_s)"
   ]
  }
 ],
 "metadata": {
  "kernelspec": {
   "display_name": "Python 3 (ipykernel)",
   "language": "python",
   "name": "python3"
  },
  "language_info": {
   "codemirror_mode": {
    "name": "ipython",
    "version": 3
   },
   "file_extension": ".py",
   "mimetype": "text/x-python",
   "name": "python",
   "nbconvert_exporter": "python",
   "pygments_lexer": "ipython3",
   "version": "3.9.12"
  }
 },
 "nbformat": 4,
 "nbformat_minor": 5
}
