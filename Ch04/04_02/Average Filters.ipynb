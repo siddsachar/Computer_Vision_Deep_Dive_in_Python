{
 "cells": [
  {
   "cell_type": "markdown",
   "id": "96221fbd-32e3-49a8-aef9-21570d1eaeb4",
   "metadata": {},
   "source": [
    "# Average Filters\n",
    "Let's experiment with average filters, which use the kernel to calculate the average of all overlapping pixels. This average is the new pixel, and it produces a blurring effect in the image."
   ]
  },
  {
   "cell_type": "code",
   "execution_count": null,
   "id": "39b5e510-57de-412f-ab01-6d6bafe3dc64",
   "metadata": {},
   "outputs": [],
   "source": [
    "# Let's work with the picture of a house\n",
    "\n",
    "import numpy as np\n",
    "import matplotlib.pyplot as plt\n",
    "%config InlineBackend.figure_formats = 'retina'\n",
    "from matplotlib import rcParams\n",
    "from EC_CV import *\n",
    "import cv2\n",
    "\n",
    "rcParams['figure.figsize'] = (20,8)\n",
    "\n",
    "img = plt.imread('house.jpg')\n",
    "plt.imshow(img)\n",
    "print(np.shape(img))"
   ]
  },
  {
   "cell_type": "code",
   "execution_count": null,
   "id": "dbd59a91-588a-407a-9605-12f97a63700c",
   "metadata": {},
   "outputs": [],
   "source": [
    "# OpenCV's filter2D function works with color and grayscale images\n",
    "\n",
    "kernel = np.ones((7, 7), np.float32) / 49\n",
    "blurred = cv2.filter2D(src=img, ddepth=-1, kernel=kernel)\n",
    "plt.imshow(blurred)"
   ]
  },
  {
   "cell_type": "code",
   "execution_count": null,
   "id": "e876f39c-e3a3-4d1d-a4ba-5807fd436d76",
   "metadata": {},
   "outputs": [],
   "source": [
    "# Let's compare the images side by side\n",
    "\n",
    "rcParams['figure.figsize'] = (20,8)\n",
    "\n",
    "fig, ax = plt.subplots(1,2)\n",
    "ax[0].imshow(img)\n",
    "ax[1].imshow(blurred)"
   ]
  },
  {
   "cell_type": "code",
   "execution_count": null,
   "id": "c26ef4f4-a02b-431a-b4c4-a28615b1867c",
   "metadata": {},
   "outputs": [],
   "source": [
    "rcParams['figure.figsize'] = (20, 20)\n",
    "\n",
    "# display images\n",
    "fig, ax = plt.subplots(1,2)\n",
    "ax[0].imshow(img[:,400:800])\n",
    "ax[1].imshow(blurred[:,400:800])"
   ]
  },
  {
   "cell_type": "code",
   "execution_count": null,
   "id": "2e857569-a8a1-424a-9514-4fcbd795aefa",
   "metadata": {},
   "outputs": [],
   "source": [
    "# Now let's see the same thing with a 3x3 kernel\n",
    "\n",
    "rcParams['figure.figsize'] = (20, 20)\n",
    "\n",
    "kernel = np.ones((3, 3), np.float32) / 9\n",
    "blurred = cv2.filter2D(src=img, ddepth=-1, kernel=kernel)\n",
    "\n",
    "# display images\n",
    "fig, ax = plt.subplots(1,2)\n",
    "ax[0].imshow(img[:,400:800])\n",
    "ax[1].imshow(blurred[:,400:800])"
   ]
  }
 ],
 "metadata": {
  "kernelspec": {
   "display_name": "Python 3 (ipykernel)",
   "language": "python",
   "name": "python3"
  },
  "language_info": {
   "codemirror_mode": {
    "name": "ipython",
    "version": 3
   },
   "file_extension": ".py",
   "mimetype": "text/x-python",
   "name": "python",
   "nbconvert_exporter": "python",
   "pygments_lexer": "ipython3",
   "version": "3.9.12"
  }
 },
 "nbformat": 4,
 "nbformat_minor": 5
}
